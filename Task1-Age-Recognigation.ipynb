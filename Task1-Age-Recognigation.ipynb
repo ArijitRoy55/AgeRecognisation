{
 "cells": [
  {
   "cell_type": "code",
   "execution_count": 6,
   "id": "e52c0c4a",
   "metadata": {},
   "outputs": [
    {
     "name": "stdout",
     "output_type": "stream",
     "text": [
      "['11-15', '16-18', '19-25', '26-30', '31-40', '41-52', '5-10', '53-62', '63-78']\n"
     ]
    }
   ],
   "source": [
    "import keras\n",
    "import os\n",
    "import glob\n",
    "from pathlib import Path\n",
    "from tensorflow.keras.utils import get_file\n",
    "path=\"C://Users//ARIJIT ROY//Age-Rcog//Age_Dataset\"\n",
    "dir_list = os.listdir(path)\n",
    "print(dir_list)"
   ]
  },
  {
   "cell_type": "code",
   "execution_count": null,
   "id": "fcdf6a34",
   "metadata": {},
   "outputs": [],
   "source": []
  }
 ],
 "metadata": {
  "kernelspec": {
   "display_name": "Python 3 (ipykernel)",
   "language": "python",
   "name": "python3"
  },
  "language_info": {
   "codemirror_mode": {
    "name": "ipython",
    "version": 3
   },
   "file_extension": ".py",
   "mimetype": "text/x-python",
   "name": "python",
   "nbconvert_exporter": "python",
   "pygments_lexer": "ipython3",
   "version": "3.9.13"
  }
 },
 "nbformat": 4,
 "nbformat_minor": 5
}
